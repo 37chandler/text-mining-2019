{
 "cells": [
  {
   "cell_type": "markdown",
   "metadata": {},
   "source": [
    "## Spell Checking Twitter Descriptions\n",
    "\n",
    "This workbook applies our spell checker to Twitter descriptions. We'll just bring in versions of the code in functions, based on the work of Norvig. \n"
   ]
  },
  {
   "cell_type": "code",
   "execution_count": null,
   "metadata": {},
   "outputs": [],
   "source": [
    "from spell_check import * "
   ]
  },
  {
   "cell_type": "markdown",
   "metadata": {},
   "source": [
    "---\n",
    "\n",
    "1. Run the spell checker over the first 1000 descriptions from one of your Twitter files. \n",
    "\n",
    "1. Print the misspelled words along with their correction. \n",
    "\n",
    "1. How many seem to be legit misspellings?\n"
   ]
  },
  {
   "cell_type": "code",
   "execution_count": null,
   "metadata": {},
   "outputs": [],
   "source": [
    "# Read in the twitter data\n",
    "file_location = (\"C:\\\\Users\\\\jchan\\\\Dropbox\\\\Teaching\\\\\"\n",
    "                 \"2019\\\\TextMining\\\\text-mining-2019\\\\apis\\\\Twitter\\\\\")\n",
    "file_name = \"20191014_michaelpollan_followers.txt\"\n",
    "\n",
    "descs = []\n",
    "with open(file_location + file_name,'r') as ifile :\n",
    "    next(ifile)\n",
    "    for idx, line in enumerate(ifile.readlines()) :\n",
    "        line = line.strip().split(\"\\t\")\n",
    "        \n",
    "        # spot 6 has the description, but ...\n",
    "        if len(line) >= 7 : # ...sometimes we don't have descriptions\n",
    "            descs.extend(line[6].split())\n",
    "            \n",
    "        if idx > 1000 :\n",
    "            break"
   ]
  },
  {
   "cell_type": "code",
   "execution_count": null,
   "metadata": {},
   "outputs": [],
   "source": [
    "misspell_count = 0\n",
    "\n",
    "non_alpha = re.compile(r\"[^a-z]\")\n",
    "\n",
    "print(\"{:15} : {:15}\".format(\"Word\",\"Correction\"))\n",
    "for idx, word in enumerate(descs) :\n",
    "    word = word.lower()\n",
    "    word = non_alpha.sub(\"\",word)\n",
    "    \n",
    "    if word : # get rid of blanks\n",
    "        c = correction(word)\n",
    "        if c != word :\n",
    "            misspell_count += 1\n",
    "            print(\"{:15} : {:15}\".format(word,c))\n",
    "\n",
    "        if idx > 1000 :\n",
    "            break\n",
    "print(\"Found \" + str(misspell_count) + \" misspellings.\")"
   ]
  }
 ],
 "metadata": {
  "kernelspec": {
   "display_name": "Python 3",
   "language": "python",
   "name": "python3"
  },
  "language_info": {
   "codemirror_mode": {
    "name": "ipython",
    "version": 3
   },
   "file_extension": ".py",
   "mimetype": "text/x-python",
   "name": "python",
   "nbconvert_exporter": "python",
   "pygments_lexer": "ipython3",
   "version": "3.7.3"
  }
 },
 "nbformat": 4,
 "nbformat_minor": 1
}
