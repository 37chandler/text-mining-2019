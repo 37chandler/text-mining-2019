{
 "cells": [
  {
   "cell_type": "markdown",
   "metadata": {},
   "source": [
    "Let's see which candidates are talking about some individual phrase."
   ]
  },
  {
   "cell_type": "code",
   "execution_count": null,
   "metadata": {},
   "outputs": [],
   "source": [
    "import sqlite3\n",
    "import re \n",
    "from collections import Counter\n",
    "import nltk"
   ]
  },
  {
   "cell_type": "markdown",
   "metadata": {},
   "source": [
    "Change `db_path` to match what's on your machine."
   ]
  },
  {
   "cell_type": "code",
   "execution_count": null,
   "metadata": {},
   "outputs": [],
   "source": [
    "db_path = \"C://users//jchan//dropbox//teaching//2019//textmining//text-mining-2019//web-scraping//candidate//\"\n",
    "db = sqlite3.connect(db_path + \"candidate_websites.db\") # feel free to change this to something you like. \n",
    "cur = db.cursor()"
   ]
  },
  {
   "cell_type": "code",
   "execution_count": null,
   "metadata": {},
   "outputs": [],
   "source": [
    "# Let's get a list of candidates\n",
    "cur.execute(\"SELECT DISTINCT base_url FROM site_text\")\n",
    "candidates = []\n",
    "\n",
    "for row in cur.fetchall() :\n",
    "    candidates.append(row[0])\n"
   ]
  },
  {
   "cell_type": "code",
   "execution_count": null,
   "metadata": {},
   "outputs": [],
   "source": [
    "candidates"
   ]
  },
  {
   "cell_type": "markdown",
   "metadata": {},
   "source": [
    "Now let's pick a term and see how much a particular candidate is using it. "
   ]
  },
  {
   "cell_type": "code",
   "execution_count": null,
   "metadata": {},
   "outputs": [],
   "source": [
    "term = \"immigration\"\n",
    "base_url = 'https://betoorourke.com/'"
   ]
  },
  {
   "cell_type": "markdown",
   "metadata": {},
   "source": [
    "First, we'll pull all the text for this candidate from the DB.  "
   ]
  },
  {
   "cell_type": "code",
   "execution_count": null,
   "metadata": {},
   "outputs": [],
   "source": [
    "cur.execute(\"SELECT text FROM site_text WHERE base_url = '{}'\".format(base_url))\n",
    "raw_text = []\n",
    "\n",
    "for row in cur.fetchall() :\n",
    "    raw_text.append(row[0])\n"
   ]
  },
  {
   "cell_type": "markdown",
   "metadata": {},
   "source": [
    "Now let's clean and tokenize the words from this site and look for our `term`."
   ]
  },
  {
   "cell_type": "code",
   "execution_count": null,
   "metadata": {},
   "outputs": [],
   "source": [
    "sw = nltk.corpus.stopwords.words(\"english\")"
   ]
  },
  {
   "cell_type": "code",
   "execution_count": null,
   "metadata": {},
   "outputs": [],
   "source": [
    "words = []\n",
    "\n",
    "for text in raw_text :\n",
    "    text = [word.lower() for word in text.split()]\n",
    "    text = [word.strip() for word in text if word.isalpha()]\n",
    "    text = [word for word in text if word not in sw]\n",
    "    words.extend(text)"
   ]
  },
  {
   "cell_type": "code",
   "execution_count": null,
   "metadata": {},
   "outputs": [],
   "source": [
    "beto_fd = Counter(words)"
   ]
  },
  {
   "cell_type": "code",
   "execution_count": null,
   "metadata": {},
   "outputs": [],
   "source": [
    "beto_fd[term]"
   ]
  },
  {
   "cell_type": "markdown",
   "metadata": {},
   "source": [
    "This is the number of times Beto used our term. \n",
    "\n",
    "---\n",
    "\n",
    "It might be helpful to have a function that does the cleaning. And, for that matter, the counting part."
   ]
  },
  {
   "cell_type": "code",
   "execution_count": null,
   "metadata": {},
   "outputs": [],
   "source": [
    "def clean_candidate_text(text_list) :\n",
    "    # given a list of raw text, returns a list of words\n",
    "    words = []\n",
    "\n",
    "    for text in text_list :\n",
    "        text = [word.lower() for word in text.split()]\n",
    "        text = [word.strip() for word in text if word.isalpha()]\n",
    "        text = [word for word in text if word not in sw]\n",
    "        words.extend(text)\n",
    "        \n",
    "    return(words)\n",
    "\n",
    "def count_term(term,words) :\n",
    "    # Given a single-word term to look for and a list of words,\n",
    "    # returns the count of that term.\n",
    "    word_count = Counter(words)\n",
    "    total_words = len(words)\n",
    "    \n",
    "    if term in word_count :\n",
    "        print(\"Out of {} words, {} were '{}'.\".format(total_words,\n",
    "                                                    word_count[term],\n",
    "                                                    term))\n",
    "        return(word_count[term])\n",
    "    else :\n",
    "        return(0)"
   ]
  },
  {
   "cell_type": "markdown",
   "metadata": {},
   "source": [
    "Now let's test it!"
   ]
  },
  {
   "cell_type": "code",
   "execution_count": null,
   "metadata": {},
   "outputs": [],
   "source": [
    "term = \"tax\"\n",
    "base_url = 'https://elizabethwarren.com'\n",
    "\n",
    "cur.execute(\"SELECT text FROM site_text WHERE base_url = '{}'\".format(base_url))\n",
    "raw_text = []\n",
    "\n",
    "for row in cur.fetchall() :\n",
    "    raw_text.append(row[0])"
   ]
  },
  {
   "cell_type": "code",
   "execution_count": null,
   "metadata": {},
   "outputs": [],
   "source": [
    "count_term(term,clean_candidate_text(raw_text))"
   ]
  },
  {
   "cell_type": "markdown",
   "metadata": {},
   "source": [
    "Explore some other candidates and words. \n",
    "\n",
    "* Any surprises? \n",
    "* Does it seem to be working accurately?\n",
    "* What would be the next feature you'd add? "
   ]
  }
 ],
 "metadata": {
  "kernelspec": {
   "display_name": "Python 3",
   "language": "python",
   "name": "python3"
  },
  "language_info": {
   "codemirror_mode": {
    "name": "ipython",
    "version": 3
   },
   "file_extension": ".py",
   "mimetype": "text/x-python",
   "name": "python",
   "nbconvert_exporter": "python",
   "pygments_lexer": "ipython3",
   "version": "3.7.3"
  }
 },
 "nbformat": 4,
 "nbformat_minor": 2
}
