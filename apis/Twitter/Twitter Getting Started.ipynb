{
 "cells": [
  {
   "cell_type": "markdown",
   "metadata": {},
   "source": [
    "## Twitter Introduction\n",
    "\n",
    "This notebook attempts to create a \"minimal\" twitter example, so you can see if your credentials and whatnot are working. \n",
    "\n",
    "Also, I wrote some functions for you in the file `twitter_functions.py`. This will need to be in the same folder where you're running this notebook. \n",
    "\n",
    "You may not have installed `tweepy` yet. If you get an error on the next cell, you need to go to the command/console line (like where you type `git` commands) and type something like `pip install tweepy`. There may be dependencies (like `unidecode`) that you need as well. "
   ]
  },
  {
   "cell_type": "code",
   "execution_count": null,
   "metadata": {},
   "outputs": [],
   "source": [
    "from datetime import datetime\n",
    "import json\n",
    "from pprint import pprint\n",
    "\n",
    "from twitter_functions import * # these are the functions I wrote for you."
   ]
  },
  {
   "cell_type": "markdown",
   "metadata": {},
   "source": [
    "We're going to use [tweepy](http://docs.tweepy.org/en/v3.8.0/) to work with Twitter, although there are other packages. \n",
    "\n",
    "The hardest part of working with APIs is often the authentication step. I'd encourage you to follow tweepy's [authentication tutorial](http://docs.tweepy.org/en/v3.8.0/auth_tutorial.html). The Oauth 2 steps are appropriate for us. \n",
    "\n",
    "Your goal is to figure out what keys *you* need to be able to access the Twitter API. The Twitter developer instructions change pretty regularly. As I write this, you can access the basics of authentication [here](https://developer.twitter.com/en/docs/basics/authentication/overview/authentication-and-authorization). \n",
    "\n",
    "Let me know if you have problems. This is non-trivial, but you only have to get it working once. You'll know you it's working because it'll print 10 \"weather\" tweets down below and Trump's user object."
   ]
  },
  {
   "cell_type": "code",
   "execution_count": null,
   "metadata": {},
   "outputs": [],
   "source": [
    "# Note: Your keys will look like these, but these won't work. \n",
    "consumer_key = \"xks2XTK4gr2PakPio1RBTWsYU\"\n",
    "consumer_secret = \"FywGCjph2vy38uBVbVHLkhzesGVY6JqEywXd3B0sDeSAWVcDNo\""
   ]
  },
  {
   "cell_type": "code",
   "execution_count": null,
   "metadata": {},
   "outputs": [],
   "source": [
    "auth = tweepy.AppAuthHandler(consumer_key,consumer_secret)"
   ]
  },
  {
   "cell_type": "code",
   "execution_count": null,
   "metadata": {},
   "outputs": [],
   "source": [
    "api = tweepy.API(auth)"
   ]
  },
  {
   "cell_type": "code",
   "execution_count": null,
   "metadata": {},
   "outputs": [],
   "source": [
    "# Let's print some tweets\n",
    "for tweet in tweepy.Cursor(api.search, q='weather').items(10):\n",
    "    print(tweet.text)"
   ]
  },
  {
   "cell_type": "code",
   "execution_count": null,
   "metadata": {},
   "outputs": [],
   "source": [
    "trump_user_obj = api.get_user(screen_name=\"DonaldTrump\")\n",
    "\n",
    "json.dumps(trump_user_obj._json)"
   ]
  }
 ],
 "metadata": {
  "kernelspec": {
   "display_name": "Python 3",
   "language": "python",
   "name": "python3"
  },
  "language_info": {
   "codemirror_mode": {
    "name": "ipython",
    "version": 3
   },
   "file_extension": ".py",
   "mimetype": "text/x-python",
   "name": "python",
   "nbconvert_exporter": "python",
   "pygments_lexer": "ipython3",
   "version": "3.7.3"
  }
 },
 "nbformat": 4,
 "nbformat_minor": 2
}
