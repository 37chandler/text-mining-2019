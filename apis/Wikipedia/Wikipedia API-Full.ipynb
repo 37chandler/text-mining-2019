{
 "cells": [
  {
   "cell_type": "markdown",
   "metadata": {},
   "source": [
    "# Accessing the Wikipedia API\n",
    "This notebook pulls some information from the Wikipedia API. This API is nice because it doesn't require authentication. (The Twitter API requires authentication--that's a necessary process to go through, but requires some work.) "
   ]
  },
  {
   "cell_type": "code",
   "execution_count": 1,
   "metadata": {},
   "outputs": [],
   "source": [
    "import requests\n",
    "\n",
    "wikipedia_api_url = \"https://en.wikipedia.org/w/api.php?action=query&format=json&list=categorymembers&cmlimit=10\""
   ]
  },
  {
   "cell_type": "markdown",
   "metadata": {},
   "source": [
    "We can start by just building a simple query, getting 10 people born in 1973. We will use the delightful and amazing [`requests`](http://docs.python-requests.org/en/master/) library in Python. The format of the URL is based on a bunch of reading about the [Wikipedia API](https://www.mediawiki.org/wiki/API:Categorymembers) and trial and error. And error. "
   ]
  },
  {
   "cell_type": "code",
   "execution_count": null,
   "metadata": {},
   "outputs": [],
   "source": [
    "full_url = wikipedia_api_url + \"&cmtitle=Category:1973_births\"\n",
    "\n",
    "print(full_url)\n",
    "\n",
    "r = requests.get(full_url)"
   ]
  },
  {
   "cell_type": "code",
   "execution_count": null,
   "metadata": {},
   "outputs": [],
   "source": [
    "from pprint import pprint"
   ]
  },
  {
   "cell_type": "markdown",
   "metadata": {},
   "source": [
    "Let's use the `pprint` (for \"pretty print\") to print out the `json` object that returns from the API call."
   ]
  },
  {
   "cell_type": "code",
   "execution_count": null,
   "metadata": {},
   "outputs": [],
   "source": [
    "pprint(r.json())"
   ]
  },
  {
   "cell_type": "markdown",
   "metadata": {},
   "source": [
    "Feel free to click on the link that appears below cell [2]. You'll see a `pprint` version of what was returned. Thanks Wikipedia!\n",
    "\n",
    "In this next cell, type `r.` and a tab and look at all the options you have to complete the request object."
   ]
  },
  {
   "cell_type": "code",
   "execution_count": null,
   "metadata": {},
   "outputs": [],
   "source": [
    "r."
   ]
  },
  {
   "cell_type": "markdown",
   "metadata": {},
   "source": [
    "One of the most useful is `r.json()`."
   ]
  },
  {
   "cell_type": "code",
   "execution_count": null,
   "metadata": {},
   "outputs": [],
   "source": [
    "r.json()"
   ]
  },
  {
   "cell_type": "markdown",
   "metadata": {},
   "source": [
    "Compare these results to the entry: https://en.wikipedia.org/wiki/Category:1973_births.\n",
    "\n",
    "JSON objects look a lot like Python dictonaries. In this case, we've got three main keys, `batchcomplete`, `continue`, and `query`."
   ]
  },
  {
   "cell_type": "code",
   "execution_count": null,
   "metadata": {},
   "outputs": [],
   "source": [
    "for item in r.json() :\n",
    "    print(item)"
   ]
  },
  {
   "cell_type": "code",
   "execution_count": null,
   "metadata": {},
   "outputs": [],
   "source": [
    "for item in r.json()['query'] :\n",
    "    print(item)"
   ]
  },
  {
   "cell_type": "markdown",
   "metadata": {},
   "source": [
    "`batchcomplete` tells us if we're done, I think. `continue` is used to continue through the results since we can't request more than 500 items at once. And `query` has the results. "
   ]
  },
  {
   "cell_type": "code",
   "execution_count": null,
   "metadata": {},
   "outputs": [],
   "source": [
    "for item in r.json()['query']['categorymembers'] :\n",
    "    print(item)"
   ]
  },
  {
   "cell_type": "markdown",
   "metadata": {},
   "source": [
    "Now let's build a list of everyone born in 1973. I've added a way to get out using an interation counter. Change the `iteration > n` line (line 36) to get a different number of pages of results or make it something like 50 to get all the names. "
   ]
  },
  {
   "cell_type": "code",
   "execution_count": null,
   "metadata": {},
   "outputs": [],
   "source": [
    "# Let's build up our request in a more sustainable way\n",
    "req = {'action':'query',\n",
    "       'format':'json',\n",
    "       'list':'categorymembers',\n",
    "       'cmlimit':500, # move the limit up to the max we can do.\n",
    "       'cmtitle':'Category:1973_births'}\n",
    "\n",
    "last_continue = {} # used to keep track of how far we've gone. \n",
    "iteration = 1\n",
    "pages = 0\n",
    "\n",
    "names = []\n",
    "\n",
    "while True :\n",
    "    # Modify it with the values returned in the 'continue' section of the last result.\n",
    "    req.update(last_continue)\n",
    "    \n",
    "    # Call API\n",
    "    result = requests.get('https://en.wikipedia.org/w/api.php', params=req).json() \n",
    "    \n",
    "    pages += 1\n",
    "    \n",
    "    # Grab the names\n",
    "    for item in result['query']['categorymembers'] :\n",
    "        names.append(item['title'])\n",
    "    \n",
    "    # keep track of our iteration so we can exit if this runs forever\n",
    "    iteration += 1\n",
    "    \n",
    "    # Can we get out?\n",
    "    if 'continue' not in result :\n",
    "        break\n",
    "    else :\n",
    "        last_continue = result['continue']\n",
    "    \n",
    "    if iteration > 300 :\n",
    "        # it's useful to have a way out of while statements,\n",
    "        # particularly ones that are framed as \"while True\"\n",
    "        break \n",
    "\n",
    "print(\"We pulled {} pages\".format(pages))"
   ]
  },
  {
   "cell_type": "code",
   "execution_count": null,
   "metadata": {},
   "outputs": [],
   "source": [
    "pprint(result)"
   ]
  },
  {
   "cell_type": "markdown",
   "metadata": {},
   "source": [
    "---\n",
    "\n",
    "Let's talk through the above code. \n",
    "\n",
    "---\n",
    "\n",
    "To see what's going on, I'll print the first 10 names and the last 10 names."
   ]
  },
  {
   "cell_type": "code",
   "execution_count": null,
   "metadata": {},
   "outputs": [],
   "source": [
    "print(names[:10])\n",
    "print(names[-10:])"
   ]
  },
  {
   "cell_type": "markdown",
   "metadata": {},
   "source": [
    "The below code does some parsing of the names. "
   ]
  },
  {
   "cell_type": "code",
   "execution_count": null,
   "metadata": {},
   "outputs": [],
   "source": [
    "from collections import Counter\n",
    "\n",
    "types = []\n",
    "\n",
    "for name in names :\n",
    "    if \"(\" in name :\n",
    "        parts = name.split(\"(\")\n",
    "        #break\n",
    "        types.append(parts[1].replace(\")\",\"\"))\n",
    "\n",
    "        \n",
    "c = Counter(types)\n",
    "c.most_common(10)"
   ]
  },
  {
   "cell_type": "code",
   "execution_count": null,
   "metadata": {},
   "outputs": [],
   "source": [
    "parts"
   ]
  },
  {
   "cell_type": "code",
   "execution_count": null,
   "metadata": {},
   "outputs": [],
   "source": [
    "from collections import Counter\n",
    "\n",
    "c = Counter([name.split()[0] for name in names])\n",
    "c.most_common(10)"
   ]
  },
  {
   "cell_type": "code",
   "execution_count": null,
   "metadata": {},
   "outputs": [],
   "source": [
    "len(names)"
   ]
  },
  {
   "cell_type": "markdown",
   "metadata": {},
   "source": [
    "Now your turn. Pick a year, pull all the names for people born in that year, and count up the most common first names and last names. "
   ]
  },
  {
   "cell_type": "code",
   "execution_count": null,
   "metadata": {},
   "outputs": [],
   "source": [
    "# Your code here. "
   ]
  },
  {
   "cell_type": "markdown",
   "metadata": {},
   "source": [
    "We had a discussion about Wikipedia fame. Are younger people more likely to be \"Wikipedia Famous\" (i.e., *on* Wikipedia)? Why might this be true? Why might it be false? \n",
    "\n",
    "In order to answer this question, it'd be good to have a list of everyone on Wikipedia born in the last 100 or 150 years. If you get here with some extra time, write some code to do this. Your code should define a starting year and then pull everyone born in that year on Wikipedia. Write out this data to a file, keeping track of the year the person was born in. \n",
    "\n",
    "Which year did you get with the maximum number of people? Is that result surprising?"
   ]
  },
  {
   "cell_type": "code",
   "execution_count": 3,
   "metadata": {},
   "outputs": [
    {
     "name": "stdout",
     "output_type": "stream",
     "text": [
      "We pulled 5 pages for 1850.\n",
      "We pulled 5 pages for 1851.\n",
      "We pulled 5 pages for 1852.\n",
      "We pulled 4 pages for 1853.\n",
      "We pulled 5 pages for 1854.\n",
      "We pulled 5 pages for 1855.\n",
      "We pulled 5 pages for 1856.\n",
      "We pulled 5 pages for 1857.\n",
      "We pulled 6 pages for 1858.\n",
      "We pulled 6 pages for 1859.\n",
      "We pulled 6 pages for 1860.\n",
      "We pulled 6 pages for 1861.\n",
      "We pulled 6 pages for 1862.\n",
      "We pulled 6 pages for 1863.\n",
      "We pulled 6 pages for 1864.\n",
      "We pulled 6 pages for 1865.\n",
      "We pulled 6 pages for 1866.\n",
      "We pulled 7 pages for 1867.\n",
      "We pulled 7 pages for 1868.\n",
      "We pulled 7 pages for 1869.\n",
      "We pulled 7 pages for 1870.\n",
      "We pulled 7 pages for 1871.\n",
      "We pulled 7 pages for 1872.\n",
      "We pulled 7 pages for 1873.\n",
      "We pulled 7 pages for 1874.\n",
      "We pulled 7 pages for 1875.\n",
      "We pulled 8 pages for 1876.\n",
      "We pulled 7 pages for 1877.\n",
      "We pulled 8 pages for 1878.\n",
      "We pulled 8 pages for 1879.\n",
      "We pulled 8 pages for 1880.\n",
      "We pulled 8 pages for 1881.\n",
      "We pulled 9 pages for 1882.\n",
      "We pulled 9 pages for 1883.\n",
      "We pulled 9 pages for 1884.\n",
      "We pulled 9 pages for 1885.\n",
      "We pulled 9 pages for 1886.\n",
      "We pulled 9 pages for 1887.\n",
      "We pulled 10 pages for 1888.\n",
      "We pulled 10 pages for 1889.\n",
      "We pulled 10 pages for 1890.\n",
      "We pulled 10 pages for 1891.\n",
      "We pulled 10 pages for 1892.\n",
      "We pulled 10 pages for 1893.\n",
      "We pulled 10 pages for 1894.\n",
      "We pulled 10 pages for 1895.\n",
      "We pulled 10 pages for 1896.\n",
      "We pulled 10 pages for 1897.\n",
      "We pulled 11 pages for 1898.\n",
      "We pulled 10 pages for 1899.\n",
      "We pulled 11 pages for 1900.\n",
      "We pulled 11 pages for 1901.\n",
      "We pulled 11 pages for 1902.\n",
      "We pulled 12 pages for 1903.\n",
      "We pulled 12 pages for 1904.\n",
      "We pulled 12 pages for 1905.\n",
      "We pulled 12 pages for 1906.\n",
      "We pulled 12 pages for 1907.\n",
      "We pulled 13 pages for 1908.\n",
      "We pulled 13 pages for 1909.\n",
      "We pulled 13 pages for 1910.\n",
      "We pulled 13 pages for 1911.\n",
      "We pulled 14 pages for 1912.\n",
      "We pulled 13 pages for 1913.\n",
      "We pulled 14 pages for 1914.\n",
      "We pulled 13 pages for 1915.\n",
      "We pulled 13 pages for 1916.\n",
      "We pulled 13 pages for 1917.\n",
      "We pulled 13 pages for 1918.\n",
      "We pulled 13 pages for 1919.\n",
      "We pulled 16 pages for 1920.\n",
      "We pulled 16 pages for 1921.\n",
      "We pulled 15 pages for 1922.\n",
      "We pulled 16 pages for 1923.\n",
      "We pulled 16 pages for 1924.\n",
      "We pulled 16 pages for 1925.\n",
      "We pulled 17 pages for 1926.\n",
      "We pulled 17 pages for 1927.\n",
      "We pulled 17 pages for 1928.\n",
      "We pulled 17 pages for 1929.\n",
      "We pulled 18 pages for 1930.\n",
      "We pulled 17 pages for 1931.\n",
      "We pulled 17 pages for 1932.\n",
      "We pulled 16 pages for 1933.\n",
      "We pulled 17 pages for 1934.\n",
      "We pulled 17 pages for 1935.\n",
      "We pulled 18 pages for 1936.\n",
      "We pulled 18 pages for 1937.\n",
      "We pulled 19 pages for 1938.\n",
      "We pulled 19 pages for 1939.\n",
      "We pulled 20 pages for 1940.\n",
      "We pulled 20 pages for 1941.\n",
      "We pulled 22 pages for 1942.\n",
      "We pulled 23 pages for 1943.\n",
      "We pulled 23 pages for 1944.\n",
      "We pulled 22 pages for 1945.\n",
      "We pulled 25 pages for 1946.\n",
      "We pulled 27 pages for 1947.\n",
      "We pulled 26 pages for 1948.\n",
      "We pulled 25 pages for 1949.\n",
      "We pulled 25 pages for 1950.\n",
      "We pulled 25 pages for 1951.\n",
      "We pulled 26 pages for 1952.\n",
      "We pulled 25 pages for 1953.\n",
      "We pulled 26 pages for 1954.\n",
      "We pulled 26 pages for 1955.\n",
      "We pulled 26 pages for 1956.\n",
      "We pulled 26 pages for 1957.\n",
      "We pulled 26 pages for 1958.\n",
      "We pulled 26 pages for 1959.\n",
      "We pulled 26 pages for 1960.\n",
      "We pulled 26 pages for 1961.\n",
      "We pulled 26 pages for 1962.\n",
      "We pulled 26 pages for 1963.\n",
      "We pulled 27 pages for 1964.\n",
      "We pulled 26 pages for 1965.\n",
      "We pulled 25 pages for 1966.\n",
      "We pulled 26 pages for 1967.\n",
      "We pulled 26 pages for 1968.\n",
      "We pulled 27 pages for 1969.\n",
      "We pulled 28 pages for 1970.\n",
      "We pulled 28 pages for 1971.\n",
      "We pulled 27 pages for 1972.\n",
      "We pulled 27 pages for 1973.\n",
      "We pulled 27 pages for 1974.\n",
      "We pulled 27 pages for 1975.\n",
      "We pulled 27 pages for 1976.\n",
      "We pulled 27 pages for 1977.\n",
      "We pulled 28 pages for 1978.\n",
      "We pulled 29 pages for 1979.\n",
      "We pulled 29 pages for 1980.\n",
      "We pulled 31 pages for 1981.\n",
      "We pulled 31 pages for 1982.\n",
      "We pulled 31 pages for 1983.\n",
      "We pulled 32 pages for 1984.\n",
      "We pulled 33 pages for 1985.\n",
      "We pulled 34 pages for 1986.\n",
      "We pulled 33 pages for 1987.\n",
      "We pulled 34 pages for 1988.\n",
      "We pulled 34 pages for 1989.\n",
      "We pulled 33 pages for 1990.\n",
      "We pulled 31 pages for 1991.\n",
      "We pulled 30 pages for 1992.\n",
      "We pulled 29 pages for 1993.\n",
      "We pulled 27 pages for 1994.\n",
      "We pulled 24 pages for 1995.\n",
      "We pulled 21 pages for 1996.\n",
      "We pulled 18 pages for 1997.\n",
      "We pulled 15 pages for 1998.\n",
      "We pulled 11 pages for 1999.\n",
      "We pulled 8 pages for 2000.\n",
      "We pulled 4 pages for 2001.\n",
      "We pulled 2 pages for 2002.\n",
      "We pulled 1 pages for 2003.\n",
      "We pulled 1 pages for 2004.\n",
      "We pulled 1 pages for 2005.\n",
      "We pulled 1 pages for 2006.\n",
      "We pulled 1 pages for 2007.\n",
      "We pulled 1 pages for 2008.\n",
      "We pulled 1 pages for 2009.\n",
      "We pulled 1 pages for 2010.\n",
      "We pulled 1 pages for 2011.\n",
      "We pulled 1 pages for 2012.\n",
      "We pulled 1 pages for 2013.\n",
      "We pulled 1 pages for 2014.\n",
      "We pulled 1 pages for 2015.\n",
      "We pulled 1 pages for 2016.\n",
      "We pulled 1 pages for 2017.\n",
      "We pulled 1 pages for 2018.\n"
     ]
    }
   ],
   "source": [
    "# In this section, we'll pull everyone on Wikipedia from 1850 onward. \n",
    "\n",
    "years = range(1850,2019)\n",
    "output_file = \"wikipedia_famous.txt\"\n",
    "\n",
    "with open(output_file,'w',encoding=\"UTF-8\") as ofile :\n",
    "    ofile.write(\"year\\tname\\n\")\n",
    "\n",
    "for year in years :\n",
    "    this_cmtitle = 'Category:' + str(year) + '_births'\n",
    "    \n",
    "    req = {'action':'query',\n",
    "       'format':'json',\n",
    "       'list':'categorymembers',\n",
    "       'cmlimit':500, # move the limit up to the max we can do.\n",
    "       'cmtitle':this_cmtitle}\n",
    "\n",
    "    last_continue = {} # used to keep track of how far we've gone. \n",
    "    iteration = 1\n",
    "    pages = 0\n",
    "\n",
    "    names = []\n",
    "\n",
    "    while True :\n",
    "        # Modify it with the values returned in the 'continue' section of the last result.\n",
    "        req.update(last_continue)\n",
    "\n",
    "        # Call API\n",
    "        result = requests.get('https://en.wikipedia.org/w/api.php', params=req).json() \n",
    "\n",
    "        pages += 1\n",
    "\n",
    "        # Grab the names\n",
    "        for item in result['query']['categorymembers'] :\n",
    "            names.append(item['title'])\n",
    "\n",
    "        # keep track of our iteration so we can exit if this runs forever\n",
    "        iteration += 1\n",
    "\n",
    "        # Can we get out?\n",
    "        if 'continue' not in result :\n",
    "            break\n",
    "        else :\n",
    "            last_continue = result['continue']\n",
    "\n",
    "        if iteration >= 300 :\n",
    "            # it's useful to have a way out of while statements,\n",
    "            # particularly ones that are framed as \"while True\"\n",
    "            print(\"Hey, we hit the iteration limit at {} in {}\".format(iteration,year))\n",
    "            break \n",
    "\n",
    "    print(\"We pulled {} pages for {}.\".format(pages,year))\n",
    "    \n",
    "    # After we've pulled the year, let's write out the results\n",
    "    with open(output_file,'a',encoding=\"UTF-8\") as ofile : # why the 'a' here? \n",
    "        for name in names :\n",
    "            ofile.write(\"\\t\".join([str(year),name]) + \"\\n\")\n",
    "    "
   ]
  },
  {
   "cell_type": "markdown",
   "metadata": {},
   "source": [
    "More later on estimating the age effect in Wikipedia!"
   ]
  }
 ],
 "metadata": {
  "kernelspec": {
   "display_name": "Python 3",
   "language": "python",
   "name": "python3"
  },
  "language_info": {
   "codemirror_mode": {
    "name": "ipython",
    "version": 3
   },
   "file_extension": ".py",
   "mimetype": "text/x-python",
   "name": "python",
   "nbconvert_exporter": "python",
   "pygments_lexer": "ipython3",
   "version": "3.7.3"
  }
 },
 "nbformat": 4,
 "nbformat_minor": 2
}
